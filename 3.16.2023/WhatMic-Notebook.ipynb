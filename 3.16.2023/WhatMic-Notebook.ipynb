{
 "cells": [
  {
   "attachments": {},
   "cell_type": "markdown",
   "metadata": {
    "collapsed": true
   },
   "source": [
    "# Machine learning using random forest classification \n",
    "# to predict results of mic usage"
   ]
  },
  {
   "cell_type": "code",
   "execution_count": 1,
   "metadata": {},
   "outputs": [
    {
     "name": "stdout",
     "output_type": "stream",
     "text": [
      "Collecting pyspark\n",
      "  Downloading pyspark-3.3.2.tar.gz (281.4 MB)\n",
      "\u001b[2K     \u001b[90m━━━━━━━━━━━━━━━━━━━━━━━━━━━━━━━━━━━━━━━\u001b[0m \u001b[32m281.4/281.4 MB\u001b[0m \u001b[31m7.8 MB/s\u001b[0m eta \u001b[36m0:00:00\u001b[0m00:01\u001b[0m00:01\u001b[0m\n",
      "\u001b[?25h  Preparing metadata (setup.py) ... \u001b[?25ldone\n",
      "\u001b[?25hCollecting py4j==0.10.9.5\n",
      "  Downloading py4j-0.10.9.5-py2.py3-none-any.whl (199 kB)\n",
      "\u001b[2K     \u001b[90m━━━━━━━━━━━━━━━━━━━━━━━━━━━━━━━━━━━━━━\u001b[0m \u001b[32m199.7/199.7 kB\u001b[0m \u001b[31m38.6 MB/s\u001b[0m eta \u001b[36m0:00:00\u001b[0m\n",
      "\u001b[?25hBuilding wheels for collected packages: pyspark\n",
      "  Building wheel for pyspark (setup.py) ... \u001b[?25ldone\n",
      "\u001b[?25h  Created wheel for pyspark: filename=pyspark-3.3.2-py2.py3-none-any.whl size=281824025 sha256=acc56d151babdcdae38cfb911388c4a6fd0147a8f8ff48979f01f76bdafd7796\n",
      "  Stored in directory: /tmp/wsuser/.cache/pip/wheels/89/d6/52/1178e354ba2207673484f0ccd7b2ded0ab6671ae5c1fc5b49a\n",
      "Successfully built pyspark\n",
      "Installing collected packages: py4j, pyspark\n",
      "  Attempting uninstall: py4j\n",
      "    Found existing installation: py4j 0.10.9.7\n",
      "    Uninstalling py4j-0.10.9.7:\n",
      "      Successfully uninstalled py4j-0.10.9.7\n",
      "Successfully installed py4j-0.10.9.5 pyspark-3.3.2\n",
      "Collecting findspark\n",
      "  Downloading findspark-2.0.1-py2.py3-none-any.whl (4.4 kB)\n",
      "Installing collected packages: findspark\n",
      "Successfully installed findspark-2.0.1\n"
     ]
    }
   ],
   "source": [
    "# installs\n",
    "!pip install pyspark\n",
    "!pip install findspark"
   ]
  },
  {
   "cell_type": "code",
   "execution_count": 2,
   "metadata": {},
   "outputs": [],
   "source": [
    "from pyspark import SparkContext, SparkConf\n",
    "from pyspark.sql import SparkSession"
   ]
  },
  {
   "cell_type": "code",
   "execution_count": 3,
   "metadata": {},
   "outputs": [
    {
     "name": "stderr",
     "output_type": "stream",
     "text": [
      "Setting default log level to \"WARN\".\n",
      "To adjust logging level use sc.setLogLevel(newLevel). For SparkR, use setLogLevel(newLevel).\n"
     ]
    },
    {
     "name": "stdout",
     "output_type": "stream",
     "text": [
      "23/03/15 13:20:05 WARN NativeCodeLoader: Unable to load native-hadoop library for your platform... using builtin-java classes where applicable\n"
     ]
    }
   ],
   "source": [
    "# Spark context class\n",
    "sc = SparkContext()\n",
    "\n",
    "# Spark session\n",
    "spark = SparkSession.builder.appName(\"what-mic\").getOrCreate()"
   ]
  },
  {
   "cell_type": "code",
   "execution_count": 4,
   "metadata": {},
   "outputs": [
    {
     "data": {
      "text/html": [
       "\n",
       "            <div>\n",
       "                <p><b>SparkSession - in-memory</b></p>\n",
       "                \n",
       "        <div>\n",
       "            <p><b>SparkContext</b></p>\n",
       "\n",
       "            <p><a href=\"http://notebook-rt222pys245ae62e933914baabde5c56977987b54-5874dc7gjkzs:4040\">Spark UI</a></p>\n",
       "\n",
       "            <dl>\n",
       "              <dt>Version</dt>\n",
       "                <dd><code>v3.3.2</code></dd>\n",
       "              <dt>Master</dt>\n",
       "                <dd><code>local[*]</code></dd>\n",
       "              <dt>AppName</dt>\n",
       "                <dd><code>pyspark-shell</code></dd>\n",
       "            </dl>\n",
       "        </div>\n",
       "        \n",
       "            </div>\n",
       "        "
      ],
      "text/plain": [
       "<pyspark.sql.session.SparkSession at 0x7f1f58330130>"
      ]
     },
     "execution_count": 4,
     "metadata": {},
     "output_type": "execute_result"
    }
   ],
   "source": [
    "spark"
   ]
  },
  {
   "cell_type": "code",
   "execution_count": 5,
   "metadata": {},
   "outputs": [],
   "source": [
    "# install ibm_db and pandas\n",
    "# these are already installed in my environment, uncomment to install\n",
    "# !pip install ibm_db\n",
    "# !pip install pandas"
   ]
  },
  {
   "cell_type": "code",
   "execution_count": 6,
   "metadata": {},
   "outputs": [],
   "source": [
    "# imports\n",
    "import ibm_db\n",
    "import ibm_db_dbi\n",
    "import pandas as pd"
   ]
  },
  {
   "cell_type": "code",
   "execution_count": 7,
   "metadata": {},
   "outputs": [
    {
     "name": "stdout",
     "output_type": "stream",
     "text": [
      "DB2 connection established\n"
     ]
    }
   ],
   "source": [
    "# connect to db2\n",
    "dsn_hostname = \"################.databases.appdomain.cloud\"\n",
    "dsn_uid = \"dnl#####\"\n",
    "dsn_pwd = \"################\"\n",
    "dsn_port = \"#####\"\n",
    "dsn_database = \"bludb\"\n",
    "dsn_driver = \"{IBM DB2 ODBC DRIVER}\"\n",
    "dsn_protocol = \"TCPIP\"\n",
    "dsn_security = \"SSL\"\n",
    "\n",
    "dsn = (\n",
    "    \"DRIVER={0};\"\n",
    "    \"DATABASE={1};\"\n",
    "    \"HOSTNAME={2};\"\n",
    "    \"PORT={3};\"\n",
    "    \"PROTOCOL={4};\"\n",
    "    \"UID={5};\"\n",
    "    \"PWD={6};\"\n",
    "    \"SECURITY={7};\").format(dsn_driver, dsn_database, dsn_hostname, dsn_port, dsn_protocol, dsn_uid, dsn_pwd, dsn_security)\n",
    "\n",
    "try:\n",
    "    db2_conn = ibm_db.connect(dsn, \"\", \"\")\n",
    "    print (\"DB2 connection established\")\n",
    "except:\n",
    "    print(\"Failed to connect to the production data warehouse\")"
   ]
  },
  {
   "cell_type": "code",
   "execution_count": 8,
   "metadata": {},
   "outputs": [],
   "source": [
    "# query the ML table\n",
    "SQL = \"select * from mqt_ml;\""
   ]
  },
  {
   "cell_type": "code",
   "execution_count": 9,
   "metadata": {},
   "outputs": [
    {
     "name": "stderr",
     "output_type": "stream",
     "text": [
      "/opt/conda/envs/Python-3.10/lib/python3.10/site-packages/pandas/io/sql.py:761: UserWarning: pandas only support SQLAlchemy connectable(engine/connection) ordatabase string URI or sqlite3 DBAPI2 connectionother DBAPI2 objects are not tested, please consider using SQLAlchemy\n",
      "  warnings.warn(\n"
     ]
    },
    {
     "data": {
      "text/html": [
       "<div>\n",
       "<style scoped>\n",
       "    .dataframe tbody tr th:only-of-type {\n",
       "        vertical-align: middle;\n",
       "    }\n",
       "\n",
       "    .dataframe tbody tr th {\n",
       "        vertical-align: top;\n",
       "    }\n",
       "\n",
       "    .dataframe thead th {\n",
       "        text-align: right;\n",
       "    }\n",
       "</style>\n",
       "<table border=\"1\" class=\"dataframe\">\n",
       "  <thead>\n",
       "    <tr style=\"text-align: right;\">\n",
       "      <th></th>\n",
       "      <th>MANUFACTURER</th>\n",
       "      <th>MODEL</th>\n",
       "      <th>SOURCE_NAME</th>\n",
       "      <th>STYLE</th>\n",
       "      <th>NUM_MEMBERS</th>\n",
       "      <th>SIZE</th>\n",
       "      <th>RESULT</th>\n",
       "    </tr>\n",
       "  </thead>\n",
       "  <tbody>\n",
       "    <tr>\n",
       "      <th>0</th>\n",
       "      <td>Shure</td>\n",
       "      <td>SM7B</td>\n",
       "      <td>Bass</td>\n",
       "      <td>Pop</td>\n",
       "      <td>7</td>\n",
       "      <td>Large</td>\n",
       "      <td>Poor</td>\n",
       "    </tr>\n",
       "    <tr>\n",
       "      <th>1</th>\n",
       "      <td>Heil</td>\n",
       "      <td>PR35</td>\n",
       "      <td>Lead Vocal</td>\n",
       "      <td>Pop</td>\n",
       "      <td>9</td>\n",
       "      <td>Medium</td>\n",
       "      <td>Good</td>\n",
       "    </tr>\n",
       "    <tr>\n",
       "      <th>2</th>\n",
       "      <td>Audix</td>\n",
       "      <td>D6</td>\n",
       "      <td>Drums, Kick</td>\n",
       "      <td>Pop</td>\n",
       "      <td>9</td>\n",
       "      <td>Medium</td>\n",
       "      <td>Poor</td>\n",
       "    </tr>\n",
       "    <tr>\n",
       "      <th>3</th>\n",
       "      <td>Beyerdynamic</td>\n",
       "      <td>M 201 TG</td>\n",
       "      <td>Drums, Snare</td>\n",
       "      <td>Pop</td>\n",
       "      <td>9</td>\n",
       "      <td>Large</td>\n",
       "      <td>Mediocre</td>\n",
       "    </tr>\n",
       "    <tr>\n",
       "      <th>4</th>\n",
       "      <td>Electro-Voice</td>\n",
       "      <td>635a</td>\n",
       "      <td>Drums, Hi-hat</td>\n",
       "      <td>Pop</td>\n",
       "      <td>9</td>\n",
       "      <td>Large</td>\n",
       "      <td>Good</td>\n",
       "    </tr>\n",
       "    <tr>\n",
       "      <th>5</th>\n",
       "      <td>Sennheiser</td>\n",
       "      <td>e904</td>\n",
       "      <td>Drums, Toms</td>\n",
       "      <td>Pop</td>\n",
       "      <td>9</td>\n",
       "      <td>Small</td>\n",
       "      <td>Good</td>\n",
       "    </tr>\n",
       "    <tr>\n",
       "      <th>6</th>\n",
       "      <td>Audio-Technica</td>\n",
       "      <td>AT4040</td>\n",
       "      <td>Drums, Overhead</td>\n",
       "      <td>Pop</td>\n",
       "      <td>9</td>\n",
       "      <td>Medium</td>\n",
       "      <td>Mediocre</td>\n",
       "    </tr>\n",
       "    <tr>\n",
       "      <th>7</th>\n",
       "      <td>Beyerdynamic</td>\n",
       "      <td>M 69 TG</td>\n",
       "      <td>Bass</td>\n",
       "      <td>Pop</td>\n",
       "      <td>9</td>\n",
       "      <td>Small</td>\n",
       "      <td>Good</td>\n",
       "    </tr>\n",
       "    <tr>\n",
       "      <th>8</th>\n",
       "      <td>Electro-Voice</td>\n",
       "      <td>635a</td>\n",
       "      <td>Keyboards</td>\n",
       "      <td>Pop</td>\n",
       "      <td>9</td>\n",
       "      <td>Large</td>\n",
       "      <td>Poor</td>\n",
       "    </tr>\n",
       "    <tr>\n",
       "      <th>9</th>\n",
       "      <td>Heil</td>\n",
       "      <td>PR30</td>\n",
       "      <td>Guitar</td>\n",
       "      <td>Pop</td>\n",
       "      <td>9</td>\n",
       "      <td>Medium</td>\n",
       "      <td>Poor</td>\n",
       "    </tr>\n",
       "    <tr>\n",
       "      <th>10</th>\n",
       "      <td>Schoeps</td>\n",
       "      <td>CMC64</td>\n",
       "      <td>Percussion</td>\n",
       "      <td>Pop</td>\n",
       "      <td>9</td>\n",
       "      <td>Medium</td>\n",
       "      <td>Poor</td>\n",
       "    </tr>\n",
       "    <tr>\n",
       "      <th>11</th>\n",
       "      <td>Electro-Voice</td>\n",
       "      <td>RE20</td>\n",
       "      <td>Horn</td>\n",
       "      <td>Pop</td>\n",
       "      <td>9</td>\n",
       "      <td>Medium</td>\n",
       "      <td>Poor</td>\n",
       "    </tr>\n",
       "    <tr>\n",
       "      <th>12</th>\n",
       "      <td>Electro-Voice</td>\n",
       "      <td>635a</td>\n",
       "      <td>Percussion</td>\n",
       "      <td>Pop</td>\n",
       "      <td>9</td>\n",
       "      <td>Small</td>\n",
       "      <td>Excellent</td>\n",
       "    </tr>\n",
       "    <tr>\n",
       "      <th>13</th>\n",
       "      <td>Schoeps</td>\n",
       "      <td>CMC64</td>\n",
       "      <td>Keyboards</td>\n",
       "      <td>Pop</td>\n",
       "      <td>9</td>\n",
       "      <td>Small</td>\n",
       "      <td>Mediocre</td>\n",
       "    </tr>\n",
       "    <tr>\n",
       "      <th>14</th>\n",
       "      <td>Telefunken</td>\n",
       "      <td>M80</td>\n",
       "      <td>Lead Vocal</td>\n",
       "      <td>Jazz</td>\n",
       "      <td>4</td>\n",
       "      <td>Small</td>\n",
       "      <td>Good</td>\n",
       "    </tr>\n",
       "    <tr>\n",
       "      <th>15</th>\n",
       "      <td>Shure</td>\n",
       "      <td>Beta 52A</td>\n",
       "      <td>Drums, Kick</td>\n",
       "      <td>Jazz</td>\n",
       "      <td>4</td>\n",
       "      <td>Small</td>\n",
       "      <td>Poor</td>\n",
       "    </tr>\n",
       "    <tr>\n",
       "      <th>16</th>\n",
       "      <td>Shure</td>\n",
       "      <td>SM57</td>\n",
       "      <td>Drums, Snare</td>\n",
       "      <td>Jazz</td>\n",
       "      <td>4</td>\n",
       "      <td>Small</td>\n",
       "      <td>Average</td>\n",
       "    </tr>\n",
       "    <tr>\n",
       "      <th>17</th>\n",
       "      <td>Electro-Voice</td>\n",
       "      <td>635a</td>\n",
       "      <td>Drums, Hi-hat</td>\n",
       "      <td>Jazz</td>\n",
       "      <td>4</td>\n",
       "      <td>Medium</td>\n",
       "      <td>Poor</td>\n",
       "    </tr>\n",
       "    <tr>\n",
       "      <th>18</th>\n",
       "      <td>Sennheiser</td>\n",
       "      <td>e904</td>\n",
       "      <td>Drums, Toms</td>\n",
       "      <td>Jazz</td>\n",
       "      <td>4</td>\n",
       "      <td>Medium</td>\n",
       "      <td>Mediocre</td>\n",
       "    </tr>\n",
       "    <tr>\n",
       "      <th>19</th>\n",
       "      <td>Audio-Technica</td>\n",
       "      <td>AT4040</td>\n",
       "      <td>Drums, Overhead</td>\n",
       "      <td>Jazz</td>\n",
       "      <td>4</td>\n",
       "      <td>Small</td>\n",
       "      <td>Good</td>\n",
       "    </tr>\n",
       "  </tbody>\n",
       "</table>\n",
       "</div>"
      ],
      "text/plain": [
       "      MANUFACTURER     MODEL      SOURCE_NAME STYLE  NUM_MEMBERS    SIZE  \\\n",
       "0            Shure      SM7B             Bass   Pop            7   Large   \n",
       "1             Heil      PR35       Lead Vocal   Pop            9  Medium   \n",
       "2            Audix        D6      Drums, Kick   Pop            9  Medium   \n",
       "3     Beyerdynamic  M 201 TG     Drums, Snare   Pop            9   Large   \n",
       "4    Electro-Voice      635a    Drums, Hi-hat   Pop            9   Large   \n",
       "5       Sennheiser      e904      Drums, Toms   Pop            9   Small   \n",
       "6   Audio-Technica    AT4040  Drums, Overhead   Pop            9  Medium   \n",
       "7     Beyerdynamic   M 69 TG             Bass   Pop            9   Small   \n",
       "8    Electro-Voice      635a        Keyboards   Pop            9   Large   \n",
       "9             Heil      PR30           Guitar   Pop            9  Medium   \n",
       "10         Schoeps     CMC64       Percussion   Pop            9  Medium   \n",
       "11   Electro-Voice      RE20             Horn   Pop            9  Medium   \n",
       "12   Electro-Voice      635a       Percussion   Pop            9   Small   \n",
       "13         Schoeps     CMC64        Keyboards   Pop            9   Small   \n",
       "14      Telefunken       M80       Lead Vocal  Jazz            4   Small   \n",
       "15           Shure  Beta 52A      Drums, Kick  Jazz            4   Small   \n",
       "16           Shure      SM57     Drums, Snare  Jazz            4   Small   \n",
       "17   Electro-Voice      635a    Drums, Hi-hat  Jazz            4  Medium   \n",
       "18      Sennheiser      e904      Drums, Toms  Jazz            4  Medium   \n",
       "19  Audio-Technica    AT4040  Drums, Overhead  Jazz            4   Small   \n",
       "\n",
       "       RESULT  \n",
       "0        Poor  \n",
       "1        Good  \n",
       "2        Poor  \n",
       "3    Mediocre  \n",
       "4        Good  \n",
       "5        Good  \n",
       "6    Mediocre  \n",
       "7        Good  \n",
       "8        Poor  \n",
       "9        Poor  \n",
       "10       Poor  \n",
       "11       Poor  \n",
       "12  Excellent  \n",
       "13   Mediocre  \n",
       "14       Good  \n",
       "15       Poor  \n",
       "16    Average  \n",
       "17       Poor  \n",
       "18   Mediocre  \n",
       "19       Good  "
      ]
     },
     "execution_count": 9,
     "metadata": {},
     "output_type": "execute_result"
    }
   ],
   "source": [
    "# create a pandas dataframe\n",
    "pconn = ibm_db_dbi.Connection(db2_conn)\n",
    "df = pd.read_sql(SQL, pconn)\n",
    "df.head(20)"
   ]
  },
  {
   "cell_type": "code",
   "execution_count": 10,
   "metadata": {},
   "outputs": [],
   "source": [
    "# create a spark dataframe\n",
    "sdf = spark.createDataFrame(df)"
   ]
  },
  {
   "cell_type": "code",
   "execution_count": 11,
   "metadata": {},
   "outputs": [
    {
     "name": "stdout",
     "output_type": "stream",
     "text": [
      "root\n",
      " |-- MANUFACTURER: string (nullable = true)\n",
      " |-- MODEL: string (nullable = true)\n",
      " |-- SOURCE_NAME: string (nullable = true)\n",
      " |-- STYLE: string (nullable = true)\n",
      " |-- NUM_MEMBERS: long (nullable = true)\n",
      " |-- SIZE: string (nullable = true)\n",
      " |-- RESULT: string (nullable = true)\n",
      "\n"
     ]
    }
   ],
   "source": [
    "sdf.printSchema()"
   ]
  },
  {
   "cell_type": "code",
   "execution_count": 12,
   "metadata": {},
   "outputs": [
    {
     "name": "stderr",
     "output_type": "stream",
     "text": [
      "[Stage 0:>                                                          (0 + 1) / 1]\r"
     ]
    },
    {
     "name": "stdout",
     "output_type": "stream",
     "text": [
      "+--------------+--------+---------------+-----+-----------+------+---------+\n",
      "|  MANUFACTURER|   MODEL|    SOURCE_NAME|STYLE|NUM_MEMBERS|  SIZE|   RESULT|\n",
      "+--------------+--------+---------------+-----+-----------+------+---------+\n",
      "|         Shure|    SM7B|           Bass|  Pop|          7| Large|     Poor|\n",
      "|          Heil|    PR35|     Lead Vocal|  Pop|          9|Medium|     Good|\n",
      "|         Audix|      D6|    Drums, Kick|  Pop|          9|Medium|     Poor|\n",
      "|  Beyerdynamic|M 201 TG|   Drums, Snare|  Pop|          9| Large| Mediocre|\n",
      "| Electro-Voice|    635a|  Drums, Hi-hat|  Pop|          9| Large|     Good|\n",
      "|    Sennheiser|    e904|    Drums, Toms|  Pop|          9| Small|     Good|\n",
      "|Audio-Technica|  AT4040|Drums, Overhead|  Pop|          9|Medium| Mediocre|\n",
      "|  Beyerdynamic| M 69 TG|           Bass|  Pop|          9| Small|     Good|\n",
      "| Electro-Voice|    635a|      Keyboards|  Pop|          9| Large|     Poor|\n",
      "|          Heil|    PR30|         Guitar|  Pop|          9|Medium|     Poor|\n",
      "|       Schoeps|   CMC64|     Percussion|  Pop|          9|Medium|     Poor|\n",
      "| Electro-Voice|    RE20|           Horn|  Pop|          9|Medium|     Poor|\n",
      "| Electro-Voice|    635a|     Percussion|  Pop|          9| Small|Excellent|\n",
      "|       Schoeps|   CMC64|      Keyboards|  Pop|          9| Small| Mediocre|\n",
      "|    Telefunken|     M80|     Lead Vocal| Jazz|          4| Small|     Good|\n",
      "|         Shure|Beta 52A|    Drums, Kick| Jazz|          4| Small|     Poor|\n",
      "|         Shure|    SM57|   Drums, Snare| Jazz|          4| Small|  Average|\n",
      "| Electro-Voice|    635a|  Drums, Hi-hat| Jazz|          4|Medium|     Poor|\n",
      "|    Sennheiser|    e904|    Drums, Toms| Jazz|          4|Medium| Mediocre|\n",
      "|Audio-Technica|  AT4040|Drums, Overhead| Jazz|          4| Small|     Good|\n",
      "+--------------+--------+---------------+-----+-----------+------+---------+\n",
      "only showing top 20 rows\n",
      "\n"
     ]
    },
    {
     "name": "stderr",
     "output_type": "stream",
     "text": [
      "                                                                                \r"
     ]
    }
   ],
   "source": [
    "sdf.show(20)"
   ]
  },
  {
   "cell_type": "code",
   "execution_count": 13,
   "metadata": {},
   "outputs": [],
   "source": [
    "# import VectorAssembler to create a 'feature' vector, \n",
    "# StringIndexer to index feature and result classifications (strings are not valid)\n",
    "# RandomForestClassifier to create the model, \n",
    "# MulticlassClassificationEvaluator for exactly what it sounds like!\n",
    "from pyspark.ml.classification import RandomForestClassifier\n",
    "from pyspark.ml.feature import StringIndexer, VectorAssembler\n",
    "from pyspark.ml.evaluation import MulticlassClassificationEvaluator"
   ]
  },
  {
   "cell_type": "code",
   "execution_count": 14,
   "metadata": {},
   "outputs": [
    {
     "name": "stderr",
     "output_type": "stream",
     "text": [
      "                                                                                \r"
     ]
    },
    {
     "name": "stdout",
     "output_type": "stream",
     "text": [
      "+--------------+--------+---------------+-----+-----------+------+---------+------------------+-----------+------------------+-----------+-----------------+----------+------------+\n",
      "|  MANUFACTURER|   MODEL|    SOURCE_NAME|STYLE|NUM_MEMBERS|  SIZE|   RESULT|manufacturer_index|model_index|scource_name_index|style_index|num_members_index|size_index|result_index|\n",
      "+--------------+--------+---------------+-----+-----------+------+---------+------------------+-----------+------------------+-----------+-----------------+----------+------------+\n",
      "|         Shure|    SM7B|           Bass|  Pop|          7| Large|     Poor|               0.0|       29.0|               0.0|        4.0|              2.0|       2.0|         0.0|\n",
      "|          Heil|    PR35|     Lead Vocal|  Pop|          9|Medium|     Good|               9.0|       25.0|               6.0|        4.0|              0.0|       0.0|         2.0|\n",
      "|         Audix|      D6|    Drums, Kick|  Pop|          9|Medium|     Poor|               3.0|       17.0|               2.0|        4.0|              0.0|       0.0|         0.0|\n",
      "|  Beyerdynamic|M 201 TG|   Drums, Snare|  Pop|          9| Large| Mediocre|               4.0|        7.0|               4.0|        4.0|              0.0|       2.0|         4.0|\n",
      "| Electro-Voice|    635a|  Drums, Hi-hat|  Pop|          9| Large|     Good|               2.0|        2.0|               1.0|        4.0|              0.0|       2.0|         2.0|\n",
      "|    Sennheiser|    e904|    Drums, Toms|  Pop|          9| Small|     Good|               1.0|       15.0|               5.0|        4.0|              0.0|       1.0|         2.0|\n",
      "|Audio-Technica|  AT4040|Drums, Overhead|  Pop|          9|Medium| Mediocre|               8.0|        5.0|               3.0|        4.0|              0.0|       0.0|         4.0|\n",
      "|  Beyerdynamic| M 69 TG|           Bass|  Pop|          9| Small|     Good|               4.0|       30.0|               0.0|        4.0|              0.0|       1.0|         2.0|\n",
      "| Electro-Voice|    635a|      Keyboards|  Pop|          9| Large|     Poor|               2.0|        2.0|               8.0|        4.0|              0.0|       2.0|         0.0|\n",
      "|          Heil|    PR30|         Guitar|  Pop|          9|Medium|     Poor|               9.0|       38.0|              10.0|        4.0|              0.0|       0.0|         0.0|\n",
      "|       Schoeps|   CMC64|     Percussion|  Pop|          9|Medium|     Poor|               6.0|        0.0|              12.0|        4.0|              0.0|       0.0|         0.0|\n",
      "| Electro-Voice|    RE20|           Horn|  Pop|          9|Medium|     Poor|               2.0|       11.0|               9.0|        4.0|              0.0|       0.0|         0.0|\n",
      "| Electro-Voice|    635a|     Percussion|  Pop|          9| Small|Excellent|               2.0|        2.0|              12.0|        4.0|              0.0|       1.0|         1.0|\n",
      "|       Schoeps|   CMC64|      Keyboards|  Pop|          9| Small| Mediocre|               6.0|        0.0|               8.0|        4.0|              0.0|       1.0|         4.0|\n",
      "|    Telefunken|     M80|     Lead Vocal| Jazz|          4| Small|     Good|              13.0|       32.0|               6.0|        1.0|              5.0|       1.0|         2.0|\n",
      "|         Shure|Beta 52A|    Drums, Kick| Jazz|          4| Small|     Poor|               0.0|       16.0|               2.0|        1.0|              5.0|       1.0|         0.0|\n",
      "|         Shure|    SM57|   Drums, Snare| Jazz|          4| Small|  Average|               0.0|        8.0|               4.0|        1.0|              5.0|       1.0|         3.0|\n",
      "| Electro-Voice|    635a|  Drums, Hi-hat| Jazz|          4|Medium|     Poor|               2.0|        2.0|               1.0|        1.0|              5.0|       0.0|         0.0|\n",
      "|    Sennheiser|    e904|    Drums, Toms| Jazz|          4|Medium| Mediocre|               1.0|       15.0|               5.0|        1.0|              5.0|       0.0|         4.0|\n",
      "|Audio-Technica|  AT4040|Drums, Overhead| Jazz|          4| Small|     Good|               8.0|        5.0|               3.0|        1.0|              5.0|       1.0|         2.0|\n",
      "+--------------+--------+---------------+-----+-----------+------+---------+------------------+-----------+------------------+-----------+-----------------+----------+------------+\n",
      "only showing top 20 rows\n",
      "\n"
     ]
    }
   ],
   "source": [
    "# apply indexes to the feature columns and the label column 'result'\n",
    "feature_indexer = StringIndexer(inputCols=['MANUFACTURER','MODEL','SOURCE_NAME','STYLE',str('NUM_MEMBERS'),'SIZE','RESULT'], \n",
    "                               outputCols=['manufacturer_index','model_index','scource_name_index','style_index','num_members_index','size_index','result_index'])\n",
    "sdf_indexed = feature_indexer.fit(sdf).transform(sdf)\n",
    "sdf_indexed.show(20)"
   ]
  },
  {
   "cell_type": "code",
   "execution_count": 15,
   "metadata": {},
   "outputs": [
    {
     "name": "stdout",
     "output_type": "stream",
     "text": [
      "+--------------------+------------+\n",
      "|            features|result_index|\n",
      "+--------------------+------------+\n",
      "|[0.0,29.0,0.0,4.0...|         0.0|\n",
      "|[9.0,25.0,6.0,4.0...|         2.0|\n",
      "|[3.0,17.0,2.0,4.0...|         0.0|\n",
      "|[4.0,7.0,4.0,4.0,...|         4.0|\n",
      "|[2.0,2.0,1.0,4.0,...|         2.0|\n",
      "|[1.0,15.0,5.0,4.0...|         2.0|\n",
      "|[8.0,5.0,3.0,4.0,...|         4.0|\n",
      "|[4.0,30.0,0.0,4.0...|         2.0|\n",
      "|[2.0,2.0,8.0,4.0,...|         0.0|\n",
      "|[9.0,38.0,10.0,4....|         0.0|\n",
      "|[6.0,0.0,12.0,4.0...|         0.0|\n",
      "|[2.0,11.0,9.0,4.0...|         0.0|\n",
      "|[2.0,2.0,12.0,4.0...|         1.0|\n",
      "|[6.0,0.0,8.0,4.0,...|         4.0|\n",
      "|[13.0,32.0,6.0,1....|         2.0|\n",
      "|[0.0,16.0,2.0,1.0...|         0.0|\n",
      "|[0.0,8.0,4.0,1.0,...|         3.0|\n",
      "|[2.0,2.0,1.0,1.0,...|         0.0|\n",
      "|[1.0,15.0,5.0,1.0...|         4.0|\n",
      "|[8.0,5.0,3.0,1.0,...|         2.0|\n",
      "+--------------------+------------+\n",
      "only showing top 20 rows\n",
      "\n"
     ]
    }
   ],
   "source": [
    "# feature array for the vectorassembler\n",
    "assembler = VectorAssembler(\n",
    "    inputCols=['manufacturer_index','model_index','scource_name_index','style_index','num_members_index','size_index'], \n",
    "    outputCol='features')\n",
    "data = assembler.transform(sdf_indexed).select('features','result_index')\n",
    "data.show(20)"
   ]
  },
  {
   "cell_type": "code",
   "execution_count": 16,
   "metadata": {},
   "outputs": [
    {
     "name": "stderr",
     "output_type": "stream",
     "text": [
      "                                                                                \r"
     ]
    }
   ],
   "source": [
    "# break the data into train/test data\n",
    "(train, test) = data.randomSplit([0.8, 0.2])\n",
    "\n",
    "# create the model and fit it to the training data\n",
    "rfc_model = RandomForestClassifier(featuresCol = \"features\", labelCol = \"result_index\", maxBins = 39)\n",
    "rfc_model = rfc_model.fit(train)"
   ]
  },
  {
   "cell_type": "code",
   "execution_count": 17,
   "metadata": {},
   "outputs": [
    {
     "name": "stdout",
     "output_type": "stream",
     "text": [
      "+--------------------+------------+--------------------+--------------------+----------+\n",
      "|            features|result_index|       rawPrediction|         probability|prediction|\n",
      "+--------------------+------------+--------------------+--------------------+----------+\n",
      "| (6,[0,1],[3.0,9.0])|         4.0|[4.31856852081373...|[0.21592842604068...|       0.0|\n",
      "| (6,[0,1],[4.0,7.0])|         2.0|[4.32773875174368...|[0.21638693758718...|       2.0|\n",
      "| (6,[0,2],[6.0,1.0])|         4.0|[4.15059768142244...|[0.20752988407112...|       1.0|\n",
      "| (6,[1,2],[4.0,8.0])|         1.0|[4.41508546205991...|[0.22075427310299...|       0.0|\n",
      "| (6,[1,2],[4.0,8.0])|         3.0|[4.41508546205991...|[0.22075427310299...|       0.0|\n",
      "| (6,[1,2],[4.0,8.0])|         4.0|[4.41508546205991...|[0.22075427310299...|       0.0|\n",
      "|(6,[1,2],[4.0,12.0])|         2.0|[4.68515112259848...|[0.23425755612992...|       0.0|\n",
      "|(6,[1,2],[16.0,2.0])|         1.0|[3.74458618113060...|[0.18722930905653...|       1.0|\n",
      "|(6,[1,3],[22.0,1.0])|         1.0|[4.19943348418031...|[0.20997167420901...|       2.0|\n",
      "| (6,[1,4],[8.0,5.0])|         0.0|[4.48959671017196...|[0.22447983550859...|       0.0|\n",
      "|(6,[1,4],[22.0,6.0])|         3.0|[3.42921370615729...|[0.17146068530786...|       1.0|\n",
      "|(6,[1,4],[29.0,5.0])|         1.0|[3.26563594731416...|[0.16328179736570...|       1.0|\n",
      "|[0.0,4.0,1.0,0.0,...|         4.0|[4.12670981014683...|[0.20633549050734...|       1.0|\n",
      "|[0.0,4.0,1.0,1.0,...|         2.0|[4.39324020057035...|[0.21966201002851...|       0.0|\n",
      "|[0.0,4.0,1.0,1.0,...|         1.0|[4.53296811020663...|[0.22664840551033...|       0.0|\n",
      "|[0.0,4.0,1.0,1.0,...|         4.0|[4.10885653596175...|[0.20544282679808...|       2.0|\n",
      "|[0.0,4.0,1.0,1.0,...|         1.0|[4.46875333386532...|[0.22343766669326...|       0.0|\n",
      "|[0.0,4.0,1.0,2.0,...|         2.0|[4.52132063522774...|[0.22606603176138...|       0.0|\n",
      "|[0.0,4.0,1.0,2.0,...|         3.0|[4.07211281868665...|[0.20360564093433...|       1.0|\n",
      "|[0.0,4.0,1.0,2.0,...|         2.0|[4.60845779499371...|[0.23042288974968...|       0.0|\n",
      "+--------------------+------------+--------------------+--------------------+----------+\n",
      "only showing top 20 rows\n",
      "\n"
     ]
    }
   ],
   "source": [
    "# make predictions on the test data\n",
    "pred = rfc_model.transform(test)\n",
    "pred.show(20)"
   ]
  },
  {
   "cell_type": "code",
   "execution_count": 18,
   "metadata": {},
   "outputs": [
    {
     "name": "stderr",
     "output_type": "stream",
     "text": [
      "                                                                                \r"
     ]
    },
    {
     "name": "stdout",
     "output_type": "stream",
     "text": [
      "Prediction Accuracy:  0.189040615770377\n",
      "Confusion Matrix:\n",
      "[[74 78 36 52 24]\n",
      " [70 86 29 26 26]\n",
      " [86 80 35 48 39]\n",
      " [83 93 33 44 37]\n",
      " [90 85 45 28 32]]\n"
     ]
    }
   ],
   "source": [
    "# evaluate our results in a confusion matrix\n",
    "# the confusion matrix is a visual comparison between actual results\n",
    "# and predicted results on our test population \n",
    "# if our model were 100% accurate, the only non-zero values\n",
    "# we would see would be in a diagonal from top left to bottom right\n",
    "\n",
    "# import the necessary module\n",
    "from sklearn.metrics import confusion_matrix\n",
    "\n",
    "evaluator = MulticlassClassificationEvaluator(predictionCol=\"prediction\", labelCol=\"result_index\")\n",
    "acc = evaluator.evaluate(pred)\n",
    " \n",
    "print(\"Prediction Accuracy: \", acc)\n",
    " \n",
    "y_pred = pred.select(\"prediction\").collect()\n",
    "y_actual = pred.select(\"result_index\").collect()\n",
    "\n",
    "cm = confusion_matrix(y_actual, y_pred)\n",
    "print(\"Confusion Matrix:\")\n",
    "print(cm)"
   ]
  },
  {
   "cell_type": "code",
   "execution_count": 19,
   "metadata": {},
   "outputs": [],
   "source": [
    "# Goodness, our results are terrible! Worse than guessing in fact.\n",
    "# This is not suprising, since results are generated randomly.\n",
    "# This doesn't render our model completely useless. At the least,\n",
    "# it strongly suggests that were these results not randomly generated,\n",
    "# the features we had chosen as candidates for prediction are poor, i.e.\n",
    "# these features are not related to results."
   ]
  },
  {
   "cell_type": "code",
   "execution_count": 22,
   "metadata": {},
   "outputs": [
    {
     "name": "stdout",
     "output_type": "stream",
     "text": [
      "+----------+\n",
      "|prediction|\n",
      "+----------+\n",
      "|       2.0|\n",
      "+----------+\n",
      "\n"
     ]
    }
   ],
   "source": [
    "# Nevertheless, let's write a function to predict outcomes based on user input\n",
    "# of each feature.\n",
    "def predict(manufacturer_index,model_index,scource_name_index,style_index,num_members_index,size_index):\n",
    "    # create a vector of all features\n",
    "    assembler = VectorAssembler(\n",
    "        inputCols=['manufacturer_index','model_index','scource_name_index','style_index','num_members_index','size_index'], \n",
    "        outputCol='features')\n",
    "    # create a dataframe with user arguments and a dummy result of 0\n",
    "    data_pred = [[manufacturer_index,model_index,scource_name_index,style_index,num_members_index,size_index, 0]]\n",
    "    columns = ['manufacturer_index','model_index','scource_name_index','style_index','num_members_index','size_index','result_index']\n",
    "    sdf_pred = spark.createDataFrame(data_pred, columns)\n",
    "    # convert to a features and result column\n",
    "    sdf_pred_tr = assembler.transform(sdf_pred).select('features', 'result_index')\n",
    "    # apply the model created with the training data above\n",
    "    predictions = rfc_model.transform(sdf_pred_tr)\n",
    "    # display the prediction\n",
    "    predictions.select('prediction').show()\n",
    "    \n",
    "# sample run - Shure, SM7B, source is bass, style is pop, number of band members is 7, venue size is large\n",
    "predict(0.0,29.0,0.0,4.0,2.0,2.0)"
   ]
  },
  {
   "cell_type": "code",
   "execution_count": 23,
   "metadata": {},
   "outputs": [
    {
     "name": "stdout",
     "output_type": "stream",
     "text": [
      "Spark context stopped\n",
      "DB2 connection closed\n"
     ]
    }
   ],
   "source": [
    "# stop Spark context and close db2 connection\n",
    "sc.stop()\n",
    "print(\"Spark context stopped\")  \n",
    "ibm_db.close(db2_conn)\n",
    "print(\"DB2 connection closed\")"
   ]
  }
 ],
 "metadata": {
  "kernelspec": {
   "display_name": "Python 3.10",
   "language": "python",
   "name": "python3"
  },
  "language_info": {
   "codemirror_mode": {
    "name": "ipython",
    "version": 3
   },
   "file_extension": ".py",
   "mimetype": "text/x-python",
   "name": "python",
   "nbconvert_exporter": "python",
   "pygments_lexer": "ipython3",
   "version": "3.10.2"
  }
 },
 "nbformat": 4,
 "nbformat_minor": 1
}
